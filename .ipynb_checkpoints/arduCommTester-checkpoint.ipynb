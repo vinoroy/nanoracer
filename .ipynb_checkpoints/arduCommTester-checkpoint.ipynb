{
 "cells": [
  {
   "cell_type": "code",
   "execution_count": 1,
   "metadata": {},
   "outputs": [],
   "source": [
    "from arducomm import *"
   ]
  },
  {
   "cell_type": "code",
   "execution_count": 2,
   "metadata": {},
   "outputs": [],
   "source": [
    "myComm = arduComm()"
   ]
  },
  {
   "cell_type": "code",
   "execution_count": 4,
   "metadata": {},
   "outputs": [
    {
     "name": "stdout",
     "output_type": "stream",
     "text": [
      "Setting angle outputs [200, 99, 99]\n",
      "Setting speed outputs [0, 99, 99]\n",
      "Sending: 100209c86363000063006300c81003\n",
      "Actual angle outputs (200, 99, 99)\n",
      "Actual speed outputs (0, 99, 99)\n",
      "\n",
      "\n",
      "\n"
     ]
    }
   ],
   "source": [
    "timeout = 1\n",
    "cnt = 0\n",
    "try:\n",
    "\n",
    "\n",
    "    angles = [200,99,99]\n",
    "    speeds = [0,99,99]\n",
    "\n",
    "\n",
    "    print(\"Setting angle outputs\", angles) # first 3 unpacked values\n",
    "    print(\"Setting speed outputs\", speeds) # next 3 unpacked values\n",
    "    myComm.send_packet(angles,speeds)\n",
    "\n",
    "\n",
    "\n",
    "    start_time = time.time()\n",
    "    payload = None\n",
    "    while(payload == None and time.time() < (start_time+timeout)):\n",
    "        payload = myComm.read_packet()\n",
    "    if payload == None:\n",
    "        print(\"timeout\")\n",
    "\n",
    "\n",
    "    # a packet is read successfully\n",
    "    unpacked = struct.unpack(\"<BBBhhh\", payload)\n",
    "    print(\"Actual angle outputs\", unpacked[:3]) # first 3 unpacked values\n",
    "    print(\"Actual speed outputs\", unpacked[3:]) # next 3 unpacked values\n",
    "\n",
    "    print(\"\\n\\n\")\n",
    "\n",
    "except KeyboardInterrupt:\n",
    "    exit(0)\n"
   ]
  },
  {
   "cell_type": "code",
   "execution_count": null,
   "metadata": {},
   "outputs": [],
   "source": []
  },
  {
   "cell_type": "code",
   "execution_count": null,
   "metadata": {},
   "outputs": [],
   "source": []
  },
  {
   "cell_type": "code",
   "execution_count": null,
   "metadata": {},
   "outputs": [],
   "source": []
  }
 ],
 "metadata": {
  "kernelspec": {
   "display_name": "bot",
   "language": "python",
   "name": "bot"
  },
  "language_info": {
   "name": ""
  }
 },
 "nbformat": 4,
 "nbformat_minor": 4
}
