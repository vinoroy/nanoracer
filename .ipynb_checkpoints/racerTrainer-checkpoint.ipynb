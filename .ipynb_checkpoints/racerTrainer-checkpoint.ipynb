{
 "cells": [
  {
   "cell_type": "code",
   "execution_count": null,
   "metadata": {},
   "outputs": [],
   "source": [
    "import numpy as np\n",
    "\n",
    "import matplotlib.pyplot as plt\n",
    "import matplotlib.image as mpimg\n",
    "\n",
    "import random\n",
    "\n",
    "import tensorflow as tf\n",
    "from tensorflow import keras\n",
    "from tensorflow.keras.layers import *\n",
    "\n",
    "\n",
    "from sklearn.model_selection import train_test_split\n",
    "from sklearn import preprocessing\n"
   ]
  },
  {
   "cell_type": "code",
   "execution_count": 12,
   "metadata": {},
   "outputs": [
    {
     "name": "stdout",
     "output_type": "stream",
     "text": [
      "(380, 224, 224, 3)\n",
      "(380,)\n"
     ]
    }
   ],
   "source": [
    "X = np.load('trackTrainImages_210624.npy')\n",
    "y = np.load('trackPos_210624.npy')\n",
    "\n",
    "#X = np.load('trackTrainImages.npy')\n",
    "#y = np.load('trackPos.npy')\n",
    "\n",
    "print(X.shape)\n",
    "print(y.shape)\n"
   ]
  },
  {
   "cell_type": "code",
   "execution_count": 23,
   "metadata": {},
   "outputs": [],
   "source": [
    "Xtemp = []\n",
    "\n",
    "for i in range(len(X)):\n",
    "\n",
    "    Xtemp.append(X[i][100:200])\n",
    "    \n",
    "XX = np.array(Xtemp)    "
   ]
  },
  {
   "cell_type": "code",
   "execution_count": 5,
   "metadata": {},
   "outputs": [
    {
     "data": {
      "text/plain": [
       "(380, 224, 224, 3)"
      ]
     },
     "execution_count": 5,
     "metadata": {},
     "output_type": "execute_result"
    }
   ],
   "source": [
    "X.shape"
   ]
  },
  {
   "cell_type": "code",
   "execution_count": 13,
   "metadata": {},
   "outputs": [],
   "source": [
    "X_train, X_test, y_train, y_test = train_test_split(X, y, test_size=0.2, random_state=42)\n",
    "\n",
    "#X_train = X\n",
    "#y_train = y\n",
    "\n",
    "\n",
    "#X_test = X\n",
    "#y_test = y"
   ]
  },
  {
   "cell_type": "code",
   "execution_count": 14,
   "metadata": {},
   "outputs": [],
   "source": [
    "# convert from integers to floats\n",
    "X_train = X_train.astype('float32')\n",
    "X_test = X_test.astype('float32')\n",
    "# normalize to range 0-1\n",
    "X_train = X_train / 255.0\n",
    "X_test = X_test / 255.0"
   ]
  },
  {
   "cell_type": "code",
   "execution_count": 15,
   "metadata": {},
   "outputs": [],
   "source": [
    "# split the training data into a training set and a validation set\n",
    "X_train, X_valid = X_train[:-100], X_train[-100:]\n",
    "y_train, y_valid = y_train[:-100], y_train[-100:]"
   ]
  },
  {
   "cell_type": "code",
   "execution_count": 28,
   "metadata": {},
   "outputs": [
    {
     "data": {
      "text/plain": [
       "(280, 100, 224, 3)"
      ]
     },
     "execution_count": 28,
     "metadata": {},
     "output_type": "execute_result"
    }
   ],
   "source": []
  },
  {
   "cell_type": "code",
   "execution_count": 22,
   "metadata": {},
   "outputs": [],
   "source": [
    "# create the MLP model\n",
    "inputs = Input(shape=(224,224,3))\n",
    "\n",
    "conv2D_1 = Conv2D(filters=15,kernel_size=3,strides=1,activation='relu')(inputs)\n",
    "maxPool_1 = MaxPooling2D(pool_size=2,strides=2)(conv2D_1)\n",
    "batch_1 = BatchNormalization()(maxPool_1)\n",
    "\n",
    "\n",
    "conv2D_2 = Conv2D(filters=15,kernel_size=2,strides=1,activation='relu')(batch_1)\n",
    "maxPool_2 = MaxPooling2D(pool_size=2,strides=1)(conv2D_2)\n",
    "batch_2 = BatchNormalization()(maxPool_2)\n",
    "\n",
    "conv2D_3 = Conv2D(filters=15,kernel_size=3,strides=1,activation='relu')(batch_2)\n",
    "maxPool_3 = MaxPooling2D(pool_size=2,strides=1)(conv2D_3)\n",
    "batch_3 = BatchNormalization()(maxPool_3)\n",
    "\n",
    "conv2D_4 = Conv2D(filters=15,kernel_size=3,strides=1,activation='relu')(batch_3)\n",
    "maxPool_4 = MaxPooling2D(pool_size=2,strides=1)(conv2D_4)\n",
    "batch_4 = BatchNormalization()(maxPool_4)\n",
    "\n",
    "\n",
    "flat = Flatten()(batch_4)\n",
    "dense_1 = Dense(units=64,activation='relu')(flat)\n",
    "outputs = Dense(units=1,activation='linear')(dense_1)\n",
    "\n",
    "model = keras.Model(inputs,outputs)\n"
   ]
  },
  {
   "cell_type": "code",
   "execution_count": 23,
   "metadata": {},
   "outputs": [
    {
     "name": "stdout",
     "output_type": "stream",
     "text": [
      "Model: \"model_2\"\n",
      "_________________________________________________________________\n",
      "Layer (type)                 Output Shape              Param #   \n",
      "=================================================================\n",
      "input_3 (InputLayer)         [(None, 224, 224, 3)]     0         \n",
      "_________________________________________________________________\n",
      "conv2d_8 (Conv2D)            (None, 222, 222, 15)      420       \n",
      "_________________________________________________________________\n",
      "max_pooling2d_8 (MaxPooling2 (None, 111, 111, 15)      0         \n",
      "_________________________________________________________________\n",
      "batch_normalization_8 (Batch (None, 111, 111, 15)      60        \n",
      "_________________________________________________________________\n",
      "conv2d_9 (Conv2D)            (None, 110, 110, 15)      915       \n",
      "_________________________________________________________________\n",
      "max_pooling2d_9 (MaxPooling2 (None, 109, 109, 15)      0         \n",
      "_________________________________________________________________\n",
      "batch_normalization_9 (Batch (None, 109, 109, 15)      60        \n",
      "_________________________________________________________________\n",
      "conv2d_10 (Conv2D)           (None, 107, 107, 15)      2040      \n",
      "_________________________________________________________________\n",
      "max_pooling2d_10 (MaxPooling (None, 106, 106, 15)      0         \n",
      "_________________________________________________________________\n",
      "batch_normalization_10 (Batc (None, 106, 106, 15)      60        \n",
      "_________________________________________________________________\n",
      "conv2d_11 (Conv2D)           (None, 104, 104, 15)      2040      \n",
      "_________________________________________________________________\n",
      "max_pooling2d_11 (MaxPooling (None, 103, 103, 15)      0         \n",
      "_________________________________________________________________\n",
      "batch_normalization_11 (Batc (None, 103, 103, 15)      60        \n",
      "_________________________________________________________________\n",
      "flatten_2 (Flatten)          (None, 159135)            0         \n",
      "_________________________________________________________________\n",
      "dense_4 (Dense)              (None, 64)                10184704  \n",
      "_________________________________________________________________\n",
      "dense_5 (Dense)              (None, 1)                 65        \n",
      "=================================================================\n",
      "Total params: 10,190,424\n",
      "Trainable params: 10,190,304\n",
      "Non-trainable params: 120\n",
      "_________________________________________________________________\n"
     ]
    }
   ],
   "source": [
    "model.summary()"
   ]
  },
  {
   "cell_type": "code",
   "execution_count": 24,
   "metadata": {},
   "outputs": [],
   "source": [
    "# comile the model unsing categorical_crossentropy loss function\n",
    "model.compile(optimizer='nadam',loss='MSE',metrics=['mae', 'mse'])"
   ]
  },
  {
   "cell_type": "code",
   "execution_count": null,
   "metadata": {},
   "outputs": [
    {
     "name": "stdout",
     "output_type": "stream",
     "text": [
      "Train on 204 samples, validate on 100 samples\n",
      "Epoch 1/100\n"
     ]
    }
   ],
   "source": [
    "# train the model using a mini batch size of 100 images and 50 epochs\n",
    "history = model.fit(X_train, y_train, epochs=100, batch_size=20,validation_data=[X_valid, y_valid])"
   ]
  },
  {
   "cell_type": "code",
   "execution_count": null,
   "metadata": {},
   "outputs": [],
   "source": [
    "# evaluate the model on the test data using `evaluate`\n",
    "print('\\n# Evaluate on test data')\n",
    "results = model.evaluate(X_test, y_test, batch_size=100)\n",
    "print('test loss, test mse:', results)"
   ]
  },
  {
   "cell_type": "code",
   "execution_count": 11,
   "metadata": {},
   "outputs": [
    {
     "ename": "KeyError",
     "evalue": "'mse'",
     "output_type": "error",
     "traceback": [
      "\u001b[0;31m---------------------------------------------------------------------------\u001b[0m",
      "\u001b[0;31mKeyError\u001b[0m                                  Traceback (most recent call last)",
      "\u001b[0;32m/usr/local/lib/python3.6/dist-packages/tensorflow/python/keras/api/_v1/keras/layers/__init__.py\u001b[0m in \u001b[0;36m<module>\u001b[0;34m\u001b[0m\n\u001b[1;32m     12\u001b[0m \u001b[0mcolor\u001b[0m \u001b[0;34m=\u001b[0m \u001b[0;34m'tab:blue'\u001b[0m\u001b[0;34m\u001b[0m\u001b[0;34m\u001b[0m\u001b[0m\n\u001b[1;32m     13\u001b[0m \u001b[0max2\u001b[0m\u001b[0;34m.\u001b[0m\u001b[0mset_ylabel\u001b[0m\u001b[0;34m(\u001b[0m\u001b[0;34m'mse'\u001b[0m\u001b[0;34m,\u001b[0m \u001b[0mcolor\u001b[0m\u001b[0;34m=\u001b[0m\u001b[0mcolor\u001b[0m\u001b[0;34m)\u001b[0m  \u001b[0;31m# we already handled the x-label with ax1\u001b[0m\u001b[0;34m\u001b[0m\u001b[0;34m\u001b[0m\u001b[0m\n\u001b[0;32m---> 14\u001b[0;31m \u001b[0max2\u001b[0m\u001b[0;34m.\u001b[0m\u001b[0mplot\u001b[0m\u001b[0;34m(\u001b[0m\u001b[0mhistory\u001b[0m\u001b[0;34m.\u001b[0m\u001b[0mhistory\u001b[0m\u001b[0;34m[\u001b[0m\u001b[0;34m'mse'\u001b[0m\u001b[0;34m]\u001b[0m\u001b[0;34m,\u001b[0m \u001b[0mcolor\u001b[0m\u001b[0;34m=\u001b[0m\u001b[0mcolor\u001b[0m\u001b[0;34m)\u001b[0m\u001b[0;34m\u001b[0m\u001b[0;34m\u001b[0m\u001b[0m\n\u001b[0m\u001b[1;32m     15\u001b[0m \u001b[0max2\u001b[0m\u001b[0;34m.\u001b[0m\u001b[0mtick_params\u001b[0m\u001b[0;34m(\u001b[0m\u001b[0maxis\u001b[0m\u001b[0;34m=\u001b[0m\u001b[0;34m'y'\u001b[0m\u001b[0;34m,\u001b[0m \u001b[0mlabelcolor\u001b[0m\u001b[0;34m=\u001b[0m\u001b[0mcolor\u001b[0m\u001b[0;34m)\u001b[0m\u001b[0;34m\u001b[0m\u001b[0;34m\u001b[0m\u001b[0m\n\u001b[1;32m     16\u001b[0m \u001b[0;34m\u001b[0m\u001b[0m\n",
      "\u001b[0;31mKeyError\u001b[0m: 'mse'"
     ]
    },
    {
     "data": {
      "image/png": "[encoded data removed]",
      "text/plain": [
       "<matplotlib.figure.Figure at 0x7f2e95f748>"
      ]
     },
     "metadata": {
      "needs_background": "light"
     },
     "output_type": "display_data"
    }
   ],
   "source": [
    "# summarize history for accuracy and loss as a function of the epochs\n",
    "fig, ax1 = plt.subplots()\n",
    "\n",
    "color = 'tab:red'\n",
    "ax1.set_xlabel('epochs')\n",
    "ax1.set_ylabel('loss', color=color)\n",
    "ax1.plot(history.history['loss'], color=color)\n",
    "ax1.tick_params(axis='y', labelcolor=color)\n",
    "\n",
    "ax2 = ax1.twinx()  # instantiate a second axes that shares the same x-axis\n",
    "\n",
    "color = 'tab:blue'\n",
    "ax2.set_ylabel('mse', color=color)  # we already handled the x-label with ax1\n",
    "ax2.plot(history.history['mse'], color=color)\n",
    "ax2.tick_params(axis='y', labelcolor=color)\n",
    "\n",
    "fig.tight_layout()  # otherwise the right y-label is slightly clipped\n",
    "plt.show()"
   ]
  },
  {
   "cell_type": "code",
   "execution_count": 12,
   "metadata": {},
   "outputs": [],
   "source": [
    "y_pred = model.predict(X_train)"
   ]
  },
  {
   "cell_type": "code",
   "execution_count": 13,
   "metadata": {},
   "outputs": [
    {
     "name": "stdout",
     "output_type": "stream",
     "text": [
      "Actual : 107.0 -- Pres : [109.14441]\n",
      "Actual : 107.6 -- Pres : [109.74423]\n",
      "Actual : 107.6 -- Pres : [107.86649]\n",
      "Actual : 107.6 -- Pres : [107.044975]\n",
      "Actual : 107.6 -- Pres : [107.71019]\n",
      "Actual : 107.6 -- Pres : [108.222015]\n",
      "Actual : 107.6 -- Pres : [108.60607]\n",
      "Actual : 107.6 -- Pres : [106.16433]\n",
      "Actual : 107.6 -- Pres : [108.107834]\n",
      "Actual : 107.6 -- Pres : [105.370674]\n",
      "Actual : 107.6 -- Pres : [106.39687]\n",
      "Actual : 107.6 -- Pres : [106.042175]\n",
      "Actual : 107.6 -- Pres : [106.27174]\n",
      "Actual : 107.6 -- Pres : [106.18567]\n",
      "Actual : 107.6 -- Pres : [105.82971]\n",
      "Actual : 107.6 -- Pres : [107.30092]\n",
      "Actual : 107.6 -- Pres : [107.71571]\n",
      "Actual : 107.6 -- Pres : [108.96794]\n",
      "Actual : 107.6 -- Pres : [109.32758]\n",
      "Actual : 107.6 -- Pres : [106.8824]\n",
      "Actual : 107.6 -- Pres : [107.69978]\n",
      "Actual : 107.6 -- Pres : [106.090675]\n",
      "Actual : 107.6 -- Pres : [108.41795]\n",
      "Actual : 109.0 -- Pres : [110.19004]\n",
      "Actual : 109.0 -- Pres : [110.74855]\n",
      "Actual : 103.0 -- Pres : [100.875854]\n",
      "Actual : 93.0 -- Pres : [92.41871]\n",
      "Actual : 86.0 -- Pres : [87.49726]\n",
      "Actual : 82.0 -- Pres : [82.2595]\n",
      "Actual : 78.0 -- Pres : [79.00188]\n",
      "Actual : 76.0 -- Pres : [73.63524]\n",
      "Actual : 67.0 -- Pres : [68.27771]\n",
      "Actual : 59.0 -- Pres : [61.291115]\n",
      "Actual : 53.0 -- Pres : [58.779686]\n",
      "Actual : 51.0 -- Pres : [56.50554]\n",
      "Actual : 46.0 -- Pres : [53.42141]\n",
      "Actual : 42.0 -- Pres : [45.26347]\n",
      "Actual : 40.0 -- Pres : [41.756577]\n",
      "Actual : 36.0 -- Pres : [36.121826]\n",
      "Actual : 34.0 -- Pres : [37.434742]\n",
      "Actual : 33.0 -- Pres : [34.805435]\n",
      "Actual : 32.0 -- Pres : [37.314053]\n",
      "Actual : 29.0 -- Pres : [29.56098]\n",
      "Actual : 29.6 -- Pres : [28.68404]\n",
      "Actual : 27.0 -- Pres : [23.437582]\n",
      "Actual : 27.1 -- Pres : [21.997423]\n",
      "Actual : 27.1 -- Pres : [30.940506]\n",
      "Actual : 27.1 -- Pres : [31.844141]\n",
      "Actual : 27.1 -- Pres : [27.320633]\n",
      "Actual : 23.0 -- Pres : [24.94331]\n",
      "Actual : 21.0 -- Pres : [20.972443]\n",
      "Actual : 16.0 -- Pres : [20.314821]\n",
      "Actual : 14.0 -- Pres : [16.8758]\n",
      "Actual : 14.0 -- Pres : [18.76866]\n",
      "Actual : 19.0 -- Pres : [21.38512]\n",
      "Actual : 17.0 -- Pres : [14.330173]\n",
      "Actual : 19.0 -- Pres : [15.722163]\n",
      "Actual : 15.0 -- Pres : [14.127177]\n",
      "Actual : 15.1 -- Pres : [14.68525]\n",
      "Actual : 15.1 -- Pres : [14.6735735]\n",
      "Actual : 15.1 -- Pres : [17.793585]\n",
      "Actual : 15.1 -- Pres : [16.597534]\n",
      "Actual : 13.0 -- Pres : [14.322061]\n",
      "Actual : 13.4 -- Pres : [13.907788]\n",
      "Actual : 13.4 -- Pres : [13.766308]\n",
      "Actual : 13.4 -- Pres : [13.663371]\n",
      "Actual : 13.4 -- Pres : [15.613751]\n",
      "Actual : 13.4 -- Pres : [14.5868845]\n",
      "Actual : 13.4 -- Pres : [14.63409]\n",
      "Actual : 11.0 -- Pres : [8.951251]\n",
      "Actual : 11.8 -- Pres : [10.037223]\n",
      "Actual : 11.8 -- Pres : [11.921062]\n",
      "Actual : 11.8 -- Pres : [11.774654]\n",
      "Actual : 16.0 -- Pres : [16.504642]\n",
      "Actual : 14.0 -- Pres : [12.929246]\n",
      "Actual : 14.0 -- Pres : [13.258896]\n",
      "Actual : 13.0 -- Pres : [12.866634]\n",
      "Actual : 13.6 -- Pres : [13.875698]\n",
      "Actual : 13.6 -- Pres : [13.093074]\n",
      "Actual : 18.0 -- Pres : [15.762158]\n",
      "Actual : 18.1 -- Pres : [16.646408]\n",
      "Actual : 18.1 -- Pres : [14.906796]\n",
      "Actual : 18.1 -- Pres : [19.67423]\n",
      "Actual : 18.1 -- Pres : [20.676788]\n",
      "Actual : 21.0 -- Pres : [20.726532]\n",
      "Actual : 21.0 -- Pres : [25.370115]\n",
      "Actual : 21.0 -- Pres : [24.60816]\n",
      "Actual : 21.0 -- Pres : [25.014727]\n",
      "Actual : 24.0 -- Pres : [27.721695]\n",
      "Actual : 24.7 -- Pres : [28.276772]\n",
      "Actual : 26.0 -- Pres : [26.133345]\n",
      "Actual : 26.1 -- Pres : [27.36389]\n",
      "Actual : 26.0 -- Pres : [32.330387]\n",
      "Actual : 26.7 -- Pres : [34.31477]\n",
      "Actual : 30.0 -- Pres : [34.223763]\n",
      "Actual : 30.4 -- Pres : [34.629448]\n",
      "Actual : 33.0 -- Pres : [39.87751]\n",
      "Actual : 33.3 -- Pres : [37.67828]\n",
      "Actual : 36.0 -- Pres : [40.046276]\n",
      "Actual : 36.2 -- Pres : [39.398758]\n",
      "Actual : 39.0 -- Pres : [44.613625]\n",
      "Actual : 39.0 -- Pres : [43.870327]\n",
      "Actual : 39.0 -- Pres : [42.332348]\n",
      "Actual : 41.0 -- Pres : [49.60672]\n",
      "Actual : 46.0 -- Pres : [53.750988]\n",
      "Actual : 48.0 -- Pres : [58.16825]\n",
      "Actual : 50.0 -- Pres : [53.34181]\n",
      "Actual : 54.0 -- Pres : [55.463726]\n",
      "Actual : 57.0 -- Pres : [58.15875]\n",
      "Actual : 61.0 -- Pres : [62.800694]\n",
      "Actual : 61.0 -- Pres : [64.04804]\n",
      "Actual : 61.6 -- Pres : [63.11606]\n",
      "Actual : 61.6 -- Pres : [68.297455]\n",
      "Actual : 69.0 -- Pres : [70.98432]\n",
      "Actual : 73.0 -- Pres : [74.68089]\n",
      "Actual : 77.0 -- Pres : [83.6912]\n",
      "Actual : 78.0 -- Pres : [81.481514]\n",
      "Actual : 81.0 -- Pres : [83.78731]\n",
      "Actual : 86.0 -- Pres : [87.395256]\n",
      "Actual : 91.0 -- Pres : [94.7982]\n",
      "Actual : 95.0 -- Pres : [97.70564]\n",
      "Actual : 100.0 -- Pres : [104.60251]\n",
      "Actual : 104.0 -- Pres : [110.924286]\n",
      "Actual : 108.0 -- Pres : [114.64675]\n",
      "Actual : 109.0 -- Pres : [114.127205]\n",
      "Actual : 109.0 -- Pres : [114.230934]\n",
      "Actual : 115.0 -- Pres : [119.39734]\n",
      "Actual : 115.2 -- Pres : [121.57142]\n",
      "Actual : 115.2 -- Pres : [120.37246]\n",
      "Actual : 115.2 -- Pres : [124.951645]\n",
      "Actual : 117.0 -- Pres : [118.28403]\n",
      "Actual : 117.5 -- Pres : [117.61236]\n",
      "Actual : 121.0 -- Pres : [121.135216]\n",
      "Actual : 121.3 -- Pres : [123.05521]\n",
      "Actual : 125.0 -- Pres : [129.89735]\n",
      "Actual : 131.0 -- Pres : [133.2472]\n",
      "Actual : 133.0 -- Pres : [134.32756]\n",
      "Actual : 136.0 -- Pres : [138.16382]\n",
      "Actual : 140.0 -- Pres : [143.09607]\n",
      "Actual : 143.0 -- Pres : [144.12935]\n",
      "Actual : 147.0 -- Pres : [153.3438]\n",
      "Actual : 150.0 -- Pres : [152.02715]\n",
      "Actual : 153.0 -- Pres : [157.60367]\n",
      "Actual : 157.0 -- Pres : [163.58366]\n",
      "Actual : 160.0 -- Pres : [162.43466]\n",
      "Actual : 166.0 -- Pres : [168.38979]\n",
      "Actual : 169.0 -- Pres : [170.50539]\n",
      "Actual : 173.0 -- Pres : [176.11038]\n",
      "Actual : 178.0 -- Pres : [181.85297]\n",
      "Actual : 178.6 -- Pres : [180.73521]\n",
      "Actual : 178.6 -- Pres : [186.24146]\n",
      "Actual : 183.0 -- Pres : [190.10954]\n",
      "Actual : 186.0 -- Pres : [189.61252]\n",
      "Actual : 188.0 -- Pres : [188.82741]\n",
      "Actual : 192.0 -- Pres : [193.22992]\n",
      "Actual : 195.0 -- Pres : [201.1371]\n",
      "Actual : 195.3 -- Pres : [201.12938]\n",
      "Actual : 195.3 -- Pres : [196.31337]\n",
      "Actual : 198.0 -- Pres : [201.81892]\n",
      "Actual : 201.0 -- Pres : [199.97354]\n",
      "Actual : 205.0 -- Pres : [201.7922]\n",
      "Actual : 208.0 -- Pres : [206.30505]\n",
      "Actual : 211.0 -- Pres : [209.90816]\n",
      "Actual : 212.0 -- Pres : [209.88974]\n",
      "Actual : 209.0 -- Pres : [215.58748]\n",
      "Actual : 208.0 -- Pres : [217.79533]\n",
      "Actual : 208.0 -- Pres : [210.43411]\n",
      "Actual : 205.0 -- Pres : [209.46317]\n",
      "Actual : 198.0 -- Pres : [204.97433]\n",
      "Actual : 198.2 -- Pres : [201.8508]\n",
      "Actual : 187.0 -- Pres : [190.95813]\n",
      "Actual : 184.0 -- Pres : [189.21735]\n",
      "Actual : 184.0 -- Pres : [190.96283]\n",
      "Actual : 186.0 -- Pres : [195.09752]\n",
      "Actual : 194.0 -- Pres : [189.52531]\n",
      "Actual : 186.0 -- Pres : [188.01852]\n",
      "Actual : 175.0 -- Pres : [182.74358]\n",
      "Actual : 170.0 -- Pres : [174.19617]\n",
      "Actual : 168.0 -- Pres : [173.46321]\n",
      "Actual : 169.0 -- Pres : [169.72343]\n",
      "Actual : 169.3 -- Pres : [169.28247]\n",
      "Actual : 169.3 -- Pres : [169.32079]\n",
      "Actual : 166.0 -- Pres : [165.36723]\n",
      "Actual : 158.0 -- Pres : [154.94812]\n",
      "Actual : 150.0 -- Pres : [151.94258]\n",
      "Actual : 146.0 -- Pres : [150.75645]\n",
      "Actual : 144.0 -- Pres : [151.12048]\n",
      "Actual : 147.0 -- Pres : [147.87816]\n",
      "Actual : 143.0 -- Pres : [138.8582]\n",
      "Actual : 138.0 -- Pres : [139.01907]\n",
      "Actual : 133.0 -- Pres : [134.63814]\n",
      "Actual : 133.8 -- Pres : [134.3918]\n",
      "Actual : 132.0 -- Pres : [130.70146]\n",
      "Actual : 128.0 -- Pres : [123.01902]\n",
      "Actual : 119.0 -- Pres : [112.680214]\n",
      "Actual : 116.0 -- Pres : [109.701645]\n",
      "Actual : 109.0 -- Pres : [105.7507]\n",
      "Actual : 107.0 -- Pres : [105.6973]\n",
      "Actual : 107.0 -- Pres : [104.01311]\n",
      "Actual : 102.0 -- Pres : [102.25379]\n",
      "Actual : 96.0 -- Pres : [95.76825]\n",
      "Actual : 94.0 -- Pres : [92.91335]\n",
      "Actual : 96.0 -- Pres : [96.95357]\n",
      "Actual : 96.0 -- Pres : [97.24443]\n",
      "Actual : 96.0 -- Pres : [95.95124]\n",
      "Actual : 96.0 -- Pres : [96.23803]\n",
      "Actual : 95.0 -- Pres : [97.21341]\n",
      "Actual : 95.3 -- Pres : [94.649796]\n",
      "Actual : 97.0 -- Pres : [94.97454]\n",
      "Actual : 99.0 -- Pres : [98.74015]\n",
      "Actual : 101.0 -- Pres : [99.36501]\n",
      "Actual : 103.0 -- Pres : [103.384254]\n",
      "Actual : 104.0 -- Pres : [105.66624]\n",
      "Actual : 104.9 -- Pres : [107.72439]\n",
      "Actual : 107.0 -- Pres : [108.29818]\n",
      "Actual : 112.0 -- Pres : [114.9463]\n",
      "Actual : 115.0 -- Pres : [117.94037]\n",
      "Actual : 119.0 -- Pres : [120.302124]\n",
      "Actual : 124.0 -- Pres : [128.67639]\n",
      "Actual : 124.0 -- Pres : [129.08774]\n",
      "Actual : 125.0 -- Pres : [129.04974]\n",
      "Actual : 125.5 -- Pres : [127.988495]\n",
      "Actual : 127.0 -- Pres : [131.06816]\n",
      "Actual : 127.7 -- Pres : [135.40591]\n",
      "Actual : 127.7 -- Pres : [132.18666]\n",
      "Actual : 127.7 -- Pres : [131.94775]\n",
      "Actual : 127.7 -- Pres : [135.74623]\n",
      "Actual : 127.7 -- Pres : [133.92706]\n",
      "Actual : 127.7 -- Pres : [132.75197]\n",
      "Actual : 127.7 -- Pres : [132.19362]\n",
      "Actual : 127.7 -- Pres : [133.86444]\n",
      "Actual : 127.7 -- Pres : [135.0493]\n",
      "Actual : 127.7 -- Pres : [130.8697]\n",
      "Actual : 127.7 -- Pres : [132.10016]\n",
      "Actual : 127.7 -- Pres : [131.26883]\n",
      "Actual : 127.7 -- Pres : [131.48782]\n",
      "Actual : 127.7 -- Pres : [133.17812]\n",
      "Actual : 127.7 -- Pres : [131.85771]\n",
      "Actual : 127.7 -- Pres : [133.82115]\n",
      "Actual : 129.0 -- Pres : [134.305]\n",
      "Actual : 129.9 -- Pres : [133.51892]\n",
      "Actual : 129.9 -- Pres : [133.65286]\n",
      "Actual : 129.9 -- Pres : [135.74773]\n",
      "Actual : 129.9 -- Pres : [134.0836]\n",
      "Actual : 132.0 -- Pres : [135.3898]\n",
      "Actual : 135.0 -- Pres : [135.15376]\n",
      "Actual : 137.0 -- Pres : [140.31477]\n",
      "Actual : 140.0 -- Pres : [143.03307]\n",
      "Actual : 142.0 -- Pres : [148.6958]\n",
      "Actual : 142.2 -- Pres : [149.32773]\n",
      "Actual : 142.2 -- Pres : [136.95894]\n",
      "Actual : 48.0 -- Pres : [55.967598]\n",
      "Actual : 48.0 -- Pres : [58.590214]\n",
      "Actual : 48.0 -- Pres : [53.731483]\n",
      "Actual : 48.0 -- Pres : [54.18266]\n",
      "Actual : 48.0 -- Pres : [54.48529]\n",
      "Actual : 48.0 -- Pres : [54.619045]\n",
      "Actual : 48.0 -- Pres : [55.799385]\n",
      "Actual : 48.0 -- Pres : [53.38992]\n",
      "Actual : 48.0 -- Pres : [55.66071]\n",
      "Actual : 48.0 -- Pres : [57.430305]\n",
      "Actual : 48.0 -- Pres : [53.44225]\n",
      "Actual : 48.0 -- Pres : [52.551506]\n",
      "Actual : 48.0 -- Pres : [52.596058]\n",
      "Actual : 48.0 -- Pres : [53.9985]\n",
      "Actual : 48.0 -- Pres : [53.274376]\n",
      "Actual : 48.0 -- Pres : [54.963486]\n",
      "Actual : 48.0 -- Pres : [54.74078]\n",
      "Actual : 48.0 -- Pres : [55.48768]\n",
      "Actual : 48.0 -- Pres : [56.174965]\n",
      "Actual : 48.0 -- Pres : [52.443825]\n",
      "Actual : 48.0 -- Pres : [50.513824]\n",
      "Actual : 48.0 -- Pres : [57.620758]\n",
      "Actual : 48.0 -- Pres : [52.728474]\n",
      "Actual : 48.0 -- Pres : [55.717014]\n",
      "Actual : 48.0 -- Pres : [53.46373]\n",
      "Actual : 43.0 -- Pres : [50.966908]\n",
      "Actual : 40.0 -- Pres : [47.152325]\n",
      "Actual : 36.0 -- Pres : [43.1928]\n",
      "Actual : 29.0 -- Pres : [32.380898]\n",
      "Actual : 20.0 -- Pres : [22.041357]\n",
      "Actual : 17.0 -- Pres : [16.078201]\n",
      "Actual : 7.0 -- Pres : [7.688104]\n",
      "Actual : 3.0 -- Pres : [0.1393266]\n",
      "Actual : 3.9 -- Pres : [-3.2641172]\n",
      "Actual : 0.0 -- Pres : [-14.020986]\n",
      "Actual : 0.0 -- Pres : [-6.0397906]\n",
      "Actual : 0.0 -- Pres : [-0.29732606]\n",
      "Actual : 0.0 -- Pres : [-3.6945696]\n",
      "Actual : 0.0 -- Pres : [-6.797293]\n",
      "Actual : 0.0 -- Pres : [-9.451401]\n",
      "Actual : 0.0 -- Pres : [-7.06182]\n",
      "Actual : 0.0 -- Pres : [-10.56816]\n",
      "Actual : 0.0 -- Pres : [-4.2706957]\n",
      "Actual : 0.0 -- Pres : [-1.8110538]\n",
      "Actual : 0.0 -- Pres : [2.4273622]\n",
      "Actual : 0.0 -- Pres : [1.1036384]\n",
      "Actual : 0.0 -- Pres : [-1.8498487]\n",
      "Actual : 0.0 -- Pres : [-0.9966953]\n",
      "Actual : 0.0 -- Pres : [0.7359843]\n",
      "Actual : 0.0 -- Pres : [1.0680559]\n",
      "Actual : 0.0 -- Pres : [-3.2409692]\n",
      "Actual : 6.0 -- Pres : [5.9155207]\n",
      "Actual : 12.0 -- Pres : [11.748633]\n",
      "Actual : 14.0 -- Pres : [16.20831]\n",
      "Actual : 19.0 -- Pres : [22.465797]\n",
      "Actual : 20.0 -- Pres : [26.291735]\n",
      "Actual : 20.4 -- Pres : [25.713581]\n",
      "Actual : 20.4 -- Pres : [28.899418]\n",
      "Actual : 28.0 -- Pres : [35.32222]\n",
      "Actual : 28.7 -- Pres : [35.894516]\n",
      "Actual : 33.0 -- Pres : [38.82404]\n",
      "Actual : 33.9 -- Pres : [39.778618]\n",
      "Actual : 39.0 -- Pres : [44.346317]\n",
      "Actual : 39.8 -- Pres : [45.761574]\n",
      "Actual : 44.0 -- Pres : [49.376022]\n",
      "Actual : 49.0 -- Pres : [53.388317]\n",
      "Actual : 51.0 -- Pres : [52.072945]\n",
      "Actual : 57.0 -- Pres : [54.66645]\n",
      "Actual : 58.0 -- Pres : [58.571026]\n",
      "Actual : 63.0 -- Pres : [64.26897]\n",
      "Actual : 64.0 -- Pres : [66.16263]\n",
      "Actual : 66.0 -- Pres : [67.664986]\n",
      "Actual : 66.1 -- Pres : [69.278175]\n",
      "Actual : 69.0 -- Pres : [72.08301]\n",
      "Actual : 72.0 -- Pres : [74.89851]\n",
      "Actual : 76.0 -- Pres : [77.14124]\n",
      "Actual : 75.0 -- Pres : [78.71843]\n",
      "Actual : 79.0 -- Pres : [84.79546]\n",
      "Actual : 83.0 -- Pres : [87.58654]\n",
      "Actual : 87.0 -- Pres : [88.20337]\n",
      "Actual : 88.0 -- Pres : [89.15959]\n",
      "Actual : 92.0 -- Pres : [93.49635]\n",
      "Actual : 96.0 -- Pres : [97.05766]\n",
      "Actual : 96.0 -- Pres : [97.38353]\n",
      "Actual : 103.0 -- Pres : [103.57006]\n",
      "Actual : 106.0 -- Pres : [106.385315]\n",
      "Actual : 110.0 -- Pres : [108.89054]\n",
      "Actual : 112.0 -- Pres : [114.097855]\n",
      "Actual : 112.3 -- Pres : [116.36412]\n",
      "Actual : 114.0 -- Pres : [116.307465]\n",
      "Actual : 117.0 -- Pres : [120.54088]\n",
      "Actual : 117.7 -- Pres : [122.76959]\n",
      "Actual : 129.0 -- Pres : [129.57555]\n",
      "Actual : 132.0 -- Pres : [128.04018]\n",
      "Actual : 135.0 -- Pres : [133.61592]\n",
      "Actual : 138.0 -- Pres : [137.09872]\n",
      "Actual : 140.0 -- Pres : [140.1358]\n",
      "Actual : 140.9 -- Pres : [140.94543]\n",
      "Actual : 146.0 -- Pres : [146.16318]\n",
      "Actual : 152.0 -- Pres : [152.52528]\n",
      "Actual : 152.8 -- Pres : [152.57472]\n",
      "Actual : 154.0 -- Pres : [157.2283]\n",
      "Actual : 157.0 -- Pres : [157.92209]\n",
      "Actual : 161.0 -- Pres : [162.85178]\n",
      "Actual : 165.0 -- Pres : [160.50334]\n",
      "Actual : 165.4 -- Pres : [168.42484]\n",
      "Actual : 165.4 -- Pres : [166.30212]\n",
      "Actual : 165.4 -- Pres : [168.88757]\n",
      "Actual : 165.4 -- Pres : [165.02853]\n",
      "Actual : 165.4 -- Pres : [168.13245]\n",
      "Actual : 171.0 -- Pres : [174.44907]\n",
      "Actual : 171.2 -- Pres : [174.34369]\n",
      "Actual : 175.0 -- Pres : [174.9419]\n",
      "Actual : 177.0 -- Pres : [178.38872]\n",
      "Actual : 182.0 -- Pres : [183.95552]\n",
      "Actual : 184.0 -- Pres : [185.52641]\n",
      "Actual : 188.0 -- Pres : [187.84857]\n",
      "Actual : 191.0 -- Pres : [195.42416]\n",
      "Actual : 191.5 -- Pres : [190.1365]\n",
      "Actual : 191.5 -- Pres : [190.27977]\n",
      "Actual : 191.5 -- Pres : [195.42624]\n",
      "Actual : 191.5 -- Pres : [194.3224]\n",
      "Actual : 191.5 -- Pres : [190.18896]\n",
      "Actual : 188.0 -- Pres : [192.92966]\n",
      "Actual : 188.6 -- Pres : [193.86395]\n",
      "Actual : 188.6 -- Pres : [192.261]\n",
      "Actual : 188.6 -- Pres : [191.70146]\n",
      "Actual : 188.6 -- Pres : [193.28238]\n",
      "Actual : 188.6 -- Pres : [192.07074]\n",
      "Actual : 188.6 -- Pres : [196.98315]\n",
      "Actual : 188.6 -- Pres : [192.06674]\n",
      "Actual : 192.0 -- Pres : [191.70338]\n",
      "Actual : 195.0 -- Pres : [202.26526]\n",
      "Actual : 195.2 -- Pres : [197.97758]\n",
      "Actual : 195.2 -- Pres : [201.8727]\n",
      "Actual : 195.2 -- Pres : [200.87971]\n",
      "Actual : 195.2 -- Pres : [197.21426]\n",
      "Actual : 200.0 -- Pres : [203.49492]\n",
      "Actual : 201.0 -- Pres : [205.4573]\n",
      "Actual : 201.7 -- Pres : [209.17055]\n",
      "Actual : 198.0 -- Pres : [202.6558]\n",
      "Actual : 196.0 -- Pres : [200.4718]\n",
      "Actual : 191.0 -- Pres : [198.25871]\n",
      "Actual : 194.0 -- Pres : [197.53607]\n",
      "Actual : 194.0 -- Pres : [197.69366]\n",
      "Actual : 194.0 -- Pres : [196.50734]\n",
      "Actual : 194.0 -- Pres : [195.87479]\n",
      "Actual : 194.0 -- Pres : [198.58282]\n",
      "Actual : 194.0 -- Pres : [199.20529]\n",
      "Actual : 194.0 -- Pres : [198.51932]\n",
      "Actual : 194.0 -- Pres : [194.66444]\n",
      "Actual : 194.0 -- Pres : [195.21971]\n",
      "Actual : 188.0 -- Pres : [191.19704]\n",
      "Actual : 188.0 -- Pres : [188.23439]\n",
      "Actual : 188.0 -- Pres : [189.18404]\n",
      "Actual : 188.0 -- Pres : [187.68369]\n",
      "Actual : 186.0 -- Pres : [186.62308]\n",
      "Actual : 186.7 -- Pres : [185.72311]\n",
      "Actual : 186.7 -- Pres : [185.17609]\n",
      "Actual : 179.0 -- Pres : [179.30952]\n",
      "Actual : 176.0 -- Pres : [181.02905]\n",
      "Actual : 176.5 -- Pres : [180.15254]\n",
      "Actual : 170.0 -- Pres : [174.9882]\n",
      "Actual : 170.7 -- Pres : [171.41118]\n",
      "Actual : 166.0 -- Pres : [170.64304]\n",
      "Actual : 166.4 -- Pres : [166.87195]\n",
      "Actual : 160.0 -- Pres : [163.54495]\n",
      "Actual : 160.6 -- Pres : [162.06134]\n",
      "Actual : 150.0 -- Pres : [152.60977]\n",
      "Actual : 150.2 -- Pres : [152.43332]\n",
      "Actual : 146.0 -- Pres : [147.33823]\n",
      "Actual : 146.9 -- Pres : [145.13806]\n",
      "Actual : 139.0 -- Pres : [141.07489]\n",
      "Actual : 139.7 -- Pres : [144.581]\n",
      "Actual : 139.0 -- Pres : [142.96858]\n",
      "Actual : 139.5 -- Pres : [142.41762]\n",
      "Actual : 135.0 -- Pres : [138.5581]\n",
      "Actual : 135.5 -- Pres : [138.07932]\n",
      "Actual : 136.0 -- Pres : [137.21344]\n",
      "Actual : 136.1 -- Pres : [138.11905]\n",
      "Actual : 132.0 -- Pres : [132.98102]\n",
      "Actual : 132.1 -- Pres : [134.61665]\n",
      "Actual : 125.0 -- Pres : [125.5527]\n",
      "Actual : 125.8 -- Pres : [124.295425]\n",
      "Actual : 124.0 -- Pres : [123.1156]\n",
      "Actual : 124.2 -- Pres : [121.3582]\n",
      "Actual : 120.0 -- Pres : [121.273735]\n",
      "Actual : 120.3 -- Pres : [119.94523]\n",
      "Actual : 115.0 -- Pres : [115.61598]\n",
      "Actual : 108.0 -- Pres : [107.97841]\n",
      "Actual : 108.6 -- Pres : [107.36789]\n",
      "Actual : 106.0 -- Pres : [102.95185]\n",
      "Actual : 101.0 -- Pres : [100.67535]\n",
      "Actual : 97.0 -- Pres : [95.5396]\n",
      "Actual : 91.0 -- Pres : [89.95724]\n",
      "Actual : 88.0 -- Pres : [89.154945]\n",
      "Actual : 80.0 -- Pres : [80.25253]\n",
      "Actual : 80.6 -- Pres : [79.05905]\n",
      "Actual : 80.6 -- Pres : [78.68013]\n"
     ]
    }
   ],
   "source": [
    "for i in range(len(y_train)):\n",
    "    \n",
    "    print('Actual : '+ str(y_train[i])+' -- Pres : '+str(y_pred[i]))"
   ]
  },
  {
   "cell_type": "code",
   "execution_count": 14,
   "metadata": {},
   "outputs": [],
   "source": [
    "# Save the entire model to a HDF5 file.\n",
    "# The '.h5' extension indicates that the model should be saved to HDF5.\n",
    "model.save('racerModel2.h5') "
   ]
  },
  {
   "cell_type": "code",
   "execution_count": 16,
   "metadata": {},
   "outputs": [],
   "source": [
    "X = X_test[0]"
   ]
  },
  {
   "cell_type": "code",
   "execution_count": 17,
   "metadata": {},
   "outputs": [],
   "source": [
    "XX = np.array([X])"
   ]
  },
  {
   "cell_type": "code",
   "execution_count": 18,
   "metadata": {},
   "outputs": [
    {
     "data": {
      "text/plain": [
       "(1, 20, 224, 3)"
      ]
     },
     "execution_count": 18,
     "metadata": {},
     "output_type": "execute_result"
    }
   ],
   "source": [
    "XX.shape"
   ]
  },
  {
   "cell_type": "code",
   "execution_count": 19,
   "metadata": {},
   "outputs": [],
   "source": [
    "y_pred = model.predict(XX)"
   ]
  },
  {
   "cell_type": "code",
   "execution_count": 20,
   "metadata": {},
   "outputs": [
    {
     "data": {
      "text/plain": [
       "109.1444"
      ]
     },
     "execution_count": 20,
     "metadata": {},
     "output_type": "execute_result"
    }
   ],
   "source": [
    "y_pred[0][0]"
   ]
  },
  {
   "cell_type": "code",
   "execution_count": 20,
   "metadata": {},
   "outputs": [
    {
     "data": {
      "text/plain": [
       "107.0"
      ]
     },
     "execution_count": 20,
     "metadata": {},
     "output_type": "execute_result"
    }
   ],
   "source": [
    "y_train[0]"
   ]
  },
  {
   "cell_type": "code",
   "execution_count": 16,
   "metadata": {},
   "outputs": [],
   "source": [
    "new_model = tf.keras.models.load_model('saved_model/my_model')\n"
   ]
  },
  {
   "cell_type": "code",
   "execution_count": 22,
   "metadata": {},
   "outputs": [
    {
     "data": {
      "text/plain": [
       "117.16452"
      ]
     },
     "execution_count": 22,
     "metadata": {},
     "output_type": "execute_result"
    }
   ],
   "source": [
    "y_pred = new_model.predict(XX)\n",
    "y_pred[0][0]"
   ]
  },
  {
   "cell_type": "code",
   "execution_count": 15,
   "metadata": {},
   "outputs": [
    {
     "name": "stdout",
     "output_type": "stream",
     "text": [
      "WARNING:tensorflow:From /usr/local/lib/python3.6/dist-packages/tensorflow/python/ops/init_ops.py:97: calling GlorotUniform.__init__ (from tensorflow.python.ops.init_ops) with dtype is deprecated and will be removed in a future version.\n",
      "Instructions for updating:\n",
      "Call initializer instance with the dtype argument instead of passing it to the constructor\n",
      "WARNING:tensorflow:From /usr/local/lib/python3.6/dist-packages/tensorflow/python/ops/init_ops.py:97: calling Zeros.__init__ (from tensorflow.python.ops.init_ops) with dtype is deprecated and will be removed in a future version.\n",
      "Instructions for updating:\n",
      "Call initializer instance with the dtype argument instead of passing it to the constructor\n",
      "WARNING:tensorflow:From /usr/local/lib/python3.6/dist-packages/tensorflow/python/ops/init_ops.py:97: calling Ones.__init__ (from tensorflow.python.ops.init_ops) with dtype is deprecated and will be removed in a future version.\n",
      "Instructions for updating:\n",
      "Call initializer instance with the dtype argument instead of passing it to the constructor\n"
     ]
    }
   ],
   "source": [
    "# Recreate the exact same model, including its weights and the optimizer\n",
    "model2 = tf.keras.models.load_model('racerModel2.h5')"
   ]
  },
  {
   "cell_type": "code",
   "execution_count": 22,
   "metadata": {},
   "outputs": [
    {
     "data": {
      "text/plain": [
       "109.1444"
      ]
     },
     "execution_count": 22,
     "metadata": {},
     "output_type": "execute_result"
    }
   ],
   "source": [
    "y_pred = model2.predict(XX)\n",
    "y_pred[0][0]"
   ]
  },
  {
   "cell_type": "code",
   "execution_count": null,
   "metadata": {},
   "outputs": [],
   "source": []
  }
 ],
 "metadata": {
  "kernelspec": {
   "display_name": "Python 3",
   "language": "python",
   "name": "python3"
  },
  "language_info": {
   "codemirror_mode": {
    "name": "ipython",
    "version": 3
   },
   "file_extension": ".py",
   "mimetype": "text/x-python",
   "name": "python",
   "nbconvert_exporter": "python",
   "pygments_lexer": "ipython3",
   "version": "3.6.9"
  }
 },
 "nbformat": 4,
 "nbformat_minor": 4
}
