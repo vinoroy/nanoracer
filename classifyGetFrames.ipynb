{
 "cells": [
  {
   "cell_type": "code",
   "execution_count": 1,
   "metadata": {},
   "outputs": [],
   "source": [
    "import numpy as np\n",
    "\n",
    "\n",
    "import ipywidgets as widgets\n",
    "from ipywidgets import HBox\n",
    "from IPython.display import display\n",
    "\n",
    "import matplotlib.pyplot as plt\n",
    "import matplotlib.image as mpimg\n",
    "import cv2\n",
    "\n",
    "\n",
    "from jetcam.csi_camera import CSICamera\n",
    "\n",
    "import time"
   ]
  },
  {
   "cell_type": "code",
   "execution_count": 2,
   "metadata": {},
   "outputs": [],
   "source": [
    "# create the camera object\n",
    "camera = CSICamera(width=224, height=224, capture_width=1080, capture_height=720, capture_fps=30)"
   ]
  },
  {
   "cell_type": "code",
   "execution_count": 3,
   "metadata": {},
   "outputs": [],
   "source": [
    "imageList = []\n",
    "catList = []\n",
    "currentImg = None"
   ]
  },
  {
   "cell_type": "code",
   "execution_count": 4,
   "metadata": {},
   "outputs": [],
   "source": [
    "# read the camera and set to running. This will mean that we will only have to get the last value of the camera to get\n",
    "# the latest frame\n",
    "img = camera.read()\n",
    "camera.running = True\n",
    "\n",
    "# rotate the image and convert to butes for the display widget\n",
    "img = cv2.rotate(img, cv2.ROTATE_180)\n",
    "is_success, im_buf_arr = cv2.imencode(\".jpg\", img)\n",
    "img = im_buf_arr.tobytes()"
   ]
  },
  {
   "cell_type": "code",
   "execution_count": 5,
   "metadata": {},
   "outputs": [
    {
     "data": {
      "application/vnd.jupyter.widget-view+json": {
       "model_id": "c8f55bbf1a394527b790a12c42cbdfec",
       "version_major": 2,
       "version_minor": 0
      },
      "text/plain": [
       "Button(description='Scisors', icon='check', style=ButtonStyle(), tooltip='Scisors')"
      ]
     },
     "metadata": {},
     "output_type": "display_data"
    },
    {
     "data": {
      "application/vnd.jupyter.widget-view+json": {
       "model_id": "50c997a940324efaa501a9258d573692",
       "version_major": 2,
       "version_minor": 0
      },
      "text/plain": [
       "Button(description='Mouse', icon='check', style=ButtonStyle(), tooltip='Mouse')"
      ]
     },
     "metadata": {},
     "output_type": "display_data"
    },
    {
     "data": {
      "application/vnd.jupyter.widget-view+json": {
       "model_id": "41b2517f4d3447a681ee0ac0c57db115",
       "version_major": 2,
       "version_minor": 0
      },
      "text/plain": [
       "Button(description='Glass', icon='check', style=ButtonStyle(), tooltip='Glass')"
      ]
     },
     "metadata": {},
     "output_type": "display_data"
    },
    {
     "data": {
      "application/vnd.jupyter.widget-view+json": {
       "model_id": "e3b30046be604799b30f3b3c3edbcc8d",
       "version_major": 2,
       "version_minor": 0
      },
      "text/plain": [
       "Output()"
      ]
     },
     "metadata": {},
     "output_type": "display_data"
    },
    {
     "data": {
      "application/vnd.jupyter.widget-view+json": {
       "model_id": "d6b6fcad59a74b8e815ddd15f393c2b0",
       "version_major": 2,
       "version_minor": 0
      },
      "text/plain": [
       "Image(value=b'\\xff\\xd8\\xff\\xe0\\x00\\x10JFIF\\x00\\x01\\x01\\x00\\x00\\x01\\x00\\x01\\x00\\x00\\xff\\xdb\\x00C\\x00\\x02\\x01\\x0…"
      ]
     },
     "metadata": {},
     "output_type": "display_data"
    },
    {
     "ename": "NameError",
     "evalue": "name 'category' is not defined",
     "output_type": "error",
     "traceback": [
      "\u001b[0;31m---------------------------------------------------------------------------\u001b[0m",
      "\u001b[0;31mNameError\u001b[0m                                 Traceback (most recent call last)",
      "\u001b[0;32m<ipython-input-5-aac4796d8e07>\u001b[0m in \u001b[0;36m<module>\u001b[0;34m\u001b[0m\n\u001b[1;32m     83\u001b[0m \u001b[0;34m\u001b[0m\u001b[0m\n\u001b[1;32m     84\u001b[0m \u001b[0;31m# set callback to the category select list\u001b[0m\u001b[0;34m\u001b[0m\u001b[0;34m\u001b[0m\u001b[0;34m\u001b[0m\u001b[0m\n\u001b[0;32m---> 85\u001b[0;31m \u001b[0mcategory\u001b[0m\u001b[0;34m.\u001b[0m\u001b[0mobserve\u001b[0m\u001b[0;34m(\u001b[0m\u001b[0mon_value_change\u001b[0m\u001b[0;34m,\u001b[0m \u001b[0mnames\u001b[0m\u001b[0;34m=\u001b[0m\u001b[0;34m'value'\u001b[0m\u001b[0;34m)\u001b[0m\u001b[0;34m\u001b[0m\u001b[0;34m\u001b[0m\u001b[0m\n\u001b[0m\u001b[1;32m     86\u001b[0m \u001b[0;34m\u001b[0m\u001b[0m\n\u001b[1;32m     87\u001b[0m \u001b[0;34m\u001b[0m\u001b[0m\n",
      "\u001b[0;31mNameError\u001b[0m: name 'category' is not defined"
     ]
    }
   ],
   "source": [
    "scisorsButton = widgets.Button(\n",
    "                    description='Scisors',\n",
    "                    disabled=False,\n",
    "                    button_style='', # 'success', 'info', 'warning', 'danger' or ''\n",
    "                    tooltip='Scisors',\n",
    "                    icon='check' # (FontAwesome names without the `fa-` prefix)\n",
    "                )\n",
    "\n",
    "\n",
    "\n",
    "mouseButton = widgets.Button(\n",
    "                    description='Mouse',\n",
    "                    disabled=False,\n",
    "                    button_style='', # 'success', 'info', 'warning', 'danger' or ''\n",
    "                    tooltip='Mouse',\n",
    "                    icon='check' # (FontAwesome names without the `fa-` prefix)\n",
    "                )\n",
    "\n",
    "\n",
    "\n",
    "glassButton = widgets.Button(\n",
    "                    description='Glass',\n",
    "                    disabled=False,\n",
    "                    button_style='', # 'success', 'info', 'warning', 'danger' or ''\n",
    "                    tooltip='Glass',\n",
    "                    icon='check' # (FontAwesome names without the `fa-` prefix)\n",
    "                )\n",
    "\n",
    "\n",
    "\n",
    "# create the output widget for text message\n",
    "output = widgets.Output()\n",
    "\n",
    "\n",
    "# create the image display widget\n",
    "imgDisp = widgets.Image(\n",
    "            value=img,\n",
    "            format='png',\n",
    "            width=300,\n",
    "            height=400,\n",
    "        )\n",
    "\n",
    "\n",
    "\n",
    "\n",
    "# display to the screen the widgets\n",
    "display(scisorsButton, mouseButton , glassButton, output, imgDisp)\n",
    "        \n",
    "        \n",
    "def on_button_clicked(b):\n",
    "    with output:\n",
    "        \n",
    "        category = b.description\n",
    "        \n",
    "        \n",
    "        for i in range(300):\n",
    "        \n",
    "            img = camera.value\n",
    "            img_rotate_180 = cv2.rotate(img, cv2.ROTATE_180)\n",
    "\n",
    "            currentImg = img_rotate_180\n",
    "\n",
    "            is_success, im_buf_arr = cv2.imencode(\".jpg\", img_rotate_180)\n",
    "            byte_im = im_buf_arr.tobytes()\n",
    "\n",
    "            output.clear_output()\n",
    "\n",
    "            print(\"Frame : \"+str(i)+' - '+category)\n",
    "\n",
    "            imgDisp.value = byte_im\n",
    "\n",
    "            imageList.append(currentImg)\n",
    "            catList.append(category)\n",
    "\n",
    "            time.sleep(0.1)\n",
    "\n",
    "\n",
    "\n",
    "glassButton.on_click(on_button_clicked)\n",
    "mouseButton.on_click(on_button_clicked)\n",
    "scisorsButton.on_click(on_button_clicked)\n",
    "\n",
    "           \n",
    "# set callback to the category select list\n",
    "category.observe(on_value_change, names='value')\n",
    "\n",
    "\n",
    "\n"
   ]
  },
  {
   "cell_type": "code",
   "execution_count": null,
   "metadata": {},
   "outputs": [],
   "source": []
  },
  {
   "cell_type": "code",
   "execution_count": 10,
   "metadata": {},
   "outputs": [
    {
     "data": {
      "application/vnd.jupyter.widget-view+json": {
       "model_id": "53649ede11aa4d00931c54dffa6ecf58",
       "version_major": 2,
       "version_minor": 0
      },
      "text/plain": [
       "Button(description='Export', icon='check', style=ButtonStyle(), tooltip='Export')"
      ]
     },
     "metadata": {},
     "output_type": "display_data"
    },
    {
     "data": {
      "application/vnd.jupyter.widget-view+json": {
       "model_id": "b4da45f370b5471b93b22578ba814454",
       "version_major": 2,
       "version_minor": 0
      },
      "text/plain": [
       "Output()"
      ]
     },
     "metadata": {},
     "output_type": "display_data"
    }
   ],
   "source": [
    "exportButton = widgets.Button(\n",
    "                    description='Export',\n",
    "                    disabled=False,\n",
    "                    button_style='', # 'success', 'info', 'warning', 'danger' or ''\n",
    "                    tooltip='Export',\n",
    "                    icon='check' # (FontAwesome names without the `fa-` prefix)\n",
    "                )\n",
    "\n",
    "\n",
    "# create the output widget for text message\n",
    "output2 = widgets.Output()\n",
    "\n",
    "\n",
    "# display to the screen the widgets\n",
    "display(exportButton, output2)\n",
    "\n",
    "\n",
    "def on_export_clicked(b):\n",
    "    with output2:\n",
    "        \n",
    "        images = np.array(imageList)\n",
    "        cats = np.array(catList)\n",
    "    \n",
    "        print('Exporting the data')\n",
    "        \n",
    "        \n",
    "        np.save('./images.npy', images)\n",
    "        np.save('./cats.npy', cats)\n",
    "        \n",
    "        print('Finished exporting the data')\n",
    "\n",
    "        \n",
    "\n",
    "exportButton.on_click(on_export_clicked)"
   ]
  },
  {
   "cell_type": "code",
   "execution_count": null,
   "metadata": {},
   "outputs": [],
   "source": []
  },
  {
   "cell_type": "code",
   "execution_count": null,
   "metadata": {},
   "outputs": [],
   "source": []
  },
  {
   "cell_type": "code",
   "execution_count": null,
   "metadata": {},
   "outputs": [],
   "source": []
  },
  {
   "cell_type": "code",
   "execution_count": null,
   "metadata": {},
   "outputs": [],
   "source": [
    "for i in range(len(imageList)):\n",
    "    \n",
    "    plt.figure()\n",
    "    imgplot = plt.imshow(imageList[i])\n",
    "    plt.axis('off')\n",
    "    plt.title(catList[i])\n",
    "  \n",
    "    "
   ]
  },
  {
   "cell_type": "code",
   "execution_count": null,
   "metadata": {},
   "outputs": [],
   "source": []
  },
  {
   "cell_type": "code",
   "execution_count": null,
   "metadata": {},
   "outputs": [],
   "source": [
    "len(imageList)"
   ]
  },
  {
   "cell_type": "code",
   "execution_count": null,
   "metadata": {},
   "outputs": [],
   "source": []
  }
 ],
 "metadata": {
  "kernelspec": {
   "display_name": "Python 3",
   "language": "python",
   "name": "python3"
  },
  "language_info": {
   "codemirror_mode": {
    "name": "ipython",
    "version": 3
   },
   "file_extension": ".py",
   "mimetype": "text/x-python",
   "name": "python",
   "nbconvert_exporter": "python",
   "pygments_lexer": "ipython3",
   "version": "3.6.9"
  }
 },
 "nbformat": 4,
 "nbformat_minor": 4
}
