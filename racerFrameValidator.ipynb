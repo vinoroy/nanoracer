{
 "cells": [
  {
   "cell_type": "markdown",
   "metadata": {},
   "source": [
    "Notebook used to display to the screen the captured images only. This is tobe done after a image capture sequence to validate that the frames are good"
   ]
  },
  {
   "cell_type": "code",
   "execution_count": 5,
   "metadata": {},
   "outputs": [],
   "source": [
    "import numpy as np\n",
    "\n",
    "import ipywidgets as widgets\n",
    "from ipywidgets import HBox\n",
    "from IPython.display import display\n",
    "\n",
    "import matplotlib.pyplot as plt\n",
    "import matplotlib.image as mpimg\n",
    "import cv2\n",
    "\n",
    "import time"
   ]
  },
  {
   "cell_type": "code",
   "execution_count": 6,
   "metadata": {},
   "outputs": [
    {
     "data": {
      "text/plain": [
       "(400, 224, 224, 3)"
      ]
     },
     "execution_count": 6,
     "metadata": {},
     "output_type": "execute_result"
    }
   ],
   "source": [
    "# load the captured images from file\n",
    "images = np.load('trackImagesTemp.npy')\n",
    "\n",
    "\n",
    "# get shape of the array used to store the images\n",
    "images.shape"
   ]
  },
  {
   "cell_type": "code",
   "execution_count": 7,
   "metadata": {},
   "outputs": [],
   "source": [
    "# convert the first stored image to binary format for display to screen \n",
    "is_success, im_buf_arr = cv2.imencode(\".jpg\", images[0])\n",
    "byte_im = im_buf_arr.tobytes()"
   ]
  },
  {
   "cell_type": "markdown",
   "metadata": {},
   "source": [
    "Create widgets to display the captured images with their associated tagged centerline positions"
   ]
  },
  {
   "cell_type": "code",
   "execution_count": 8,
   "metadata": {},
   "outputs": [
    {
     "data": {
      "application/vnd.jupyter.widget-view+json": {
       "model_id": "22306ae6905c438a9ab23218835e2beb",
       "version_major": 2,
       "version_minor": 0
      },
      "text/plain": [
       "HBox(children=(Image(value=b'\\xff\\xd8\\xff\\xe0\\x00\\x10JFIF\\x00\\x01\\x01\\x00\\x00\\x01\\x00\\x01\\x00\\x00\\xff\\xdb\\x00C…"
      ]
     },
     "metadata": {},
     "output_type": "display_data"
    }
   ],
   "source": [
    "startButton = widgets.Button(\n",
    "                    description='Start',\n",
    "                    disabled=False,\n",
    "                    button_style='', \n",
    "                    tooltip='Start',\n",
    "                    icon='check' \n",
    "                )\n",
    "\n",
    "\n",
    "# create the image display widget\n",
    "imgDisp = widgets.Image(\n",
    "            value=byte_im,\n",
    "            format='png',\n",
    "            width=300,\n",
    "            height=400,\n",
    "        )\n",
    "\n",
    "# create the output widget for text message\n",
    "output = widgets.Output()\n",
    "\n",
    "# pit the widgets in a horizontal box\n",
    "d = HBox([imgDisp, output, startButton])\n",
    "\n",
    "\n",
    "# display to the screen the widgets\n",
    "display(d)\n",
    "\n",
    "# function to execute on start button. The function displays to the screen the captured image and the tag\n",
    "def on_button_clicked(b):\n",
    "    \n",
    "        for i in range(len(images)):\n",
    "        \n",
    "            # get image and convert to binary\n",
    "            is_success, im_buf_arr = cv2.imencode(\".jpg\", images[i])\n",
    "            byte_im = im_buf_arr.tobytes()\n",
    "\n",
    "            # set the image of display\n",
    "            imgDisp.value = byte_im\n",
    "            \n",
    "            # output the position of the centerline associated with the image\n",
    "            with output:\n",
    "                \n",
    "                output.clear_output()\n",
    "                print('Frame number : ' + str(i))\n",
    "\n",
    "            time.sleep(0.05)\n",
    "\n",
    "\n",
    "startButton.on_click(on_button_clicked)"
   ]
  },
  {
   "cell_type": "code",
   "execution_count": null,
   "metadata": {},
   "outputs": [],
   "source": []
  }
 ],
 "metadata": {
  "kernelspec": {
   "display_name": "Python 3",
   "language": "python",
   "name": "python3"
  },
  "language_info": {
   "codemirror_mode": {
    "name": "ipython",
    "version": 3
   },
   "file_extension": ".py",
   "mimetype": "text/x-python",
   "name": "python",
   "nbconvert_exporter": "python",
   "pygments_lexer": "ipython3",
   "version": "3.6.9"
  }
 },
 "nbformat": 4,
 "nbformat_minor": 4
}
