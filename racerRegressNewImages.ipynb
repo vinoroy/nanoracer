{
 "cells": [
  {
   "cell_type": "markdown",
   "metadata": {},
   "source": [
    "This note book load an pretrained model and predicts the line poistion."
   ]
  },
  {
   "cell_type": "code",
   "execution_count": 1,
   "metadata": {},
   "outputs": [],
   "source": [
    "import numpy as np\n",
    "\n",
    "import matplotlib.pyplot as plt\n",
    "import matplotlib.image as mpimg\n",
    "\n",
    "import random\n",
    "\n",
    "import tensorflow as tf\n",
    "from tensorflow import keras\n",
    "from tensorflow.keras.layers import *\n",
    "\n",
    "import ipywidgets as widgets\n",
    "from ipywidgets import HBox\n",
    "from IPython.display import display\n",
    "from ipywidgets import IntSlider\n",
    "from ipywidgets import Button, Layout\n",
    "\n",
    "from jetcam.csi_camera import CSICamera\n",
    "\n",
    "import cv2\n",
    "\n",
    "import time"
   ]
  },
  {
   "cell_type": "code",
   "execution_count": 2,
   "metadata": {},
   "outputs": [
    {
     "data": {
      "text/plain": [
       "'1.14.0'"
      ]
     },
     "execution_count": 2,
     "metadata": {},
     "output_type": "execute_result"
    }
   ],
   "source": [
    "tf.__version__"
   ]
  },
  {
   "cell_type": "code",
   "execution_count": 3,
   "metadata": {},
   "outputs": [
    {
     "name": "stdout",
     "output_type": "stream",
     "text": [
      "WARNING:tensorflow:From /usr/local/lib/python3.6/dist-packages/tensorflow/python/ops/init_ops.py:97: calling GlorotUniform.__init__ (from tensorflow.python.ops.init_ops) with dtype is deprecated and will be removed in a future version.\n",
      "Instructions for updating:\n",
      "Call initializer instance with the dtype argument instead of passing it to the constructor\n",
      "WARNING:tensorflow:From /usr/local/lib/python3.6/dist-packages/tensorflow/python/ops/init_ops.py:1251: calling VarianceScaling.__init__ (from tensorflow.python.ops.init_ops) with dtype is deprecated and will be removed in a future version.\n",
      "Instructions for updating:\n",
      "Call initializer instance with the dtype argument instead of passing it to the constructor\n",
      "WARNING:tensorflow:From /usr/local/lib/python3.6/dist-packages/tensorflow/python/ops/init_ops.py:97: calling Zeros.__init__ (from tensorflow.python.ops.init_ops) with dtype is deprecated and will be removed in a future version.\n",
      "Instructions for updating:\n",
      "Call initializer instance with the dtype argument instead of passing it to the constructor\n",
      "WARNING:tensorflow:From /usr/local/lib/python3.6/dist-packages/tensorflow/python/ops/init_ops.py:97: calling Ones.__init__ (from tensorflow.python.ops.init_ops) with dtype is deprecated and will be removed in a future version.\n",
      "Instructions for updating:\n",
      "Call initializer instance with the dtype argument instead of passing it to the constructor\n"
     ]
    }
   ],
   "source": [
    "# load the pretrained model from file\n",
    "model = tf.keras.models.load_model('racerModel2.h5')"
   ]
  },
  {
   "cell_type": "code",
   "execution_count": 4,
   "metadata": {},
   "outputs": [],
   "source": [
    "# create the camera object\n",
    "camera = CSICamera(width=224, height=224, capture_width=1080, capture_height=720, capture_fps=30)"
   ]
  },
  {
   "cell_type": "code",
   "execution_count": 5,
   "metadata": {},
   "outputs": [],
   "source": [
    "# read the camera and set to running. This will mean that we will only have to get the last value of the camera to get\n",
    "# the latest frame\n",
    "img = camera.read()\n",
    "camera.running = True\n"
   ]
  },
  {
   "cell_type": "code",
   "execution_count": 8,
   "metadata": {},
   "outputs": [],
   "source": [
    "# get the last value of the camera\n",
    "img = camera.value"
   ]
  },
  {
   "cell_type": "code",
   "execution_count": 9,
   "metadata": {},
   "outputs": [],
   "source": [
    "# rotate the image and convert to butes for the display widget\n",
    "img = cv2.rotate(img, cv2.ROTATE_180)\n",
    "\n",
    "# crop to get the bottom part of the image\n",
    "img1 = img[150:170]\n",
    "\n",
    "\n",
    "# convert the image to bytes for the image display widget\n",
    "is_success, im_buf_arr = cv2.imencode(\".jpg\", img)\n",
    "byte_im = im_buf_arr.tobytes()"
   ]
  },
  {
   "cell_type": "code",
   "execution_count": 10,
   "metadata": {},
   "outputs": [
    {
     "data": {
      "image/png": "[encoded data removed]",
      "text/plain": [
       "<matplotlib.figure.Figure at 0x7ee98f86a0>"
      ]
     },
     "metadata": {
      "needs_background": "light"
     },
     "output_type": "display_data"
    }
   ],
   "source": [
    "# plot using matplot lib the first image\n",
    "imgplot = plt.imshow(img1)"
   ]
  },
  {
   "cell_type": "code",
   "execution_count": 11,
   "metadata": {},
   "outputs": [],
   "source": [
    "# convert from integers to floats\n",
    "X = img1.astype('float32')\n",
    "\n",
    "# normalize to range 0-1\n",
    "X = X / 255.0\n"
   ]
  },
  {
   "cell_type": "code",
   "execution_count": 12,
   "metadata": {},
   "outputs": [
    {
     "data": {
      "text/plain": [
       "67.55556"
      ]
     },
     "execution_count": 12,
     "metadata": {},
     "output_type": "execute_result"
    }
   ],
   "source": [
    "# need to perform a first prediction so the model is fast\n",
    "XX = np.array([X])\n",
    "y_pred = model.predict(XX)\n",
    "y_pred[0][0]"
   ]
  },
  {
   "cell_type": "markdown",
   "metadata": {},
   "source": [
    "create the widgets for showing the captured images and the line poistion"
   ]
  },
  {
   "cell_type": "code",
   "execution_count": 14,
   "metadata": {},
   "outputs": [
    {
     "data": {
      "application/vnd.jupyter.widget-view+json": {
       "model_id": "d8899412b74b4d31869be9201273edc0",
       "version_major": 2,
       "version_minor": 0
      },
      "text/plain": [
       "Button(description='Start', icon='check', style=ButtonStyle(), tooltip='Start')"
      ]
     },
     "metadata": {},
     "output_type": "display_data"
    },
    {
     "data": {
      "application/vnd.jupyter.widget-view+json": {
       "model_id": "b6311a1a7fd34c46b82b2a49d7f64238",
       "version_major": 2,
       "version_minor": 0
      },
      "text/plain": [
       "HBox(children=(Image(value=b'\\xff\\xd8\\xff\\xe0\\x00\\x10JFIF\\x00\\x01\\x01\\x00\\x00\\x01\\x00\\x01\\x00\\x00\\xff\\xdb\\x00C…"
      ]
     },
     "metadata": {},
     "output_type": "display_data"
    },
    {
     "data": {
      "application/vnd.jupyter.widget-view+json": {
       "model_id": "da4a5458182b425eb9c4be5d4fe691c4",
       "version_major": 2,
       "version_minor": 0
      },
      "text/plain": [
       "FloatSlider(value=7.5, continuous_update=False, layout=Layout(width='380px'), max=225.0, readout_format='.1f')"
      ]
     },
     "metadata": {},
     "output_type": "display_data"
    }
   ],
   "source": [
    "# start button widget\n",
    "startButton = widgets.Button(\n",
    "                    description='Start',\n",
    "                    disabled=False,\n",
    "                    button_style='', \n",
    "                    tooltip='Start',\n",
    "                    icon='check' \n",
    "                )\n",
    "\n",
    "\n",
    "# create the image display widget\n",
    "imgDisp = widgets.Image(\n",
    "            value=byte_im,\n",
    "            format='png',\n",
    "            width=300,\n",
    "            height=400,\n",
    "        )\n",
    "\n",
    "# create the output widget for text message\n",
    "output = widgets.Output()\n",
    "\n",
    "# create a float slider wich will be used to display the center line offset\n",
    "track = widgets.FloatSlider(\n",
    "    value=7.5,\n",
    "    min=0,\n",
    "    max=225,\n",
    "    step=0.1,\n",
    "    description='',\n",
    "    disabled=False,\n",
    "    continuous_update=False,\n",
    "    orientation='horizontal',\n",
    "    readout=True,\n",
    "    readout_format='.1f',\n",
    "    layout=Layout(width='380px')\n",
    ")\n",
    "\n",
    "# create a horizontal box layout for the image display and the output messages\n",
    "d = HBox([imgDisp, output])\n",
    "\n",
    "\n",
    "# display to the screen the widgets\n",
    "display(startButton,d,track)\n",
    "\n",
    "# function to be executed by the button click\n",
    "def predNewImages(b):\n",
    "    \n",
    "        # perform for 20 prames\n",
    "        for i in range(20):\n",
    "                \n",
    "            # get image value and rotate\n",
    "            img = camera.value\n",
    "            img = cv2.rotate(img, cv2.ROTATE_180)\n",
    "\n",
    "            \n",
    "            # crop image\n",
    "            img = img[150:170]\n",
    "            \n",
    "            # convert image from integers to floats\n",
    "            X = img.astype('float32')\n",
    "\n",
    "            # normalize to range 0-1\n",
    "            X = X / 255.0\n",
    "            \n",
    "            # insert in numpy array\n",
    "            X = np.array([X])\n",
    "            \n",
    "            # make a prediction of the center line position\n",
    "            y_pred = model.predict(X)\n",
    "            result = y_pred[0][0]\n",
    "            \n",
    "            \n",
    "            # convert the image for the widget and set to the widget variable\n",
    "            is_success, im_buf_arr = cv2.imencode(\".jpg\", img)\n",
    "            byte_im = im_buf_arr.tobytes()\n",
    "            imgDisp.value = byte_im\n",
    "            \n",
    "            # display the frame number and the prediction\n",
    "            with output:\n",
    "                \n",
    "                output.clear_output()\n",
    "            \n",
    "                print('Frame No : ' + str(i) + 'Result : ' + str(result))\n",
    "\n",
    "            time.sleep(0.2)\n",
    "\n",
    "\n",
    "startButton.on_click(predNewImages)"
   ]
  },
  {
   "cell_type": "code",
   "execution_count": null,
   "metadata": {},
   "outputs": [],
   "source": []
  }
 ],
 "metadata": {
  "kernelspec": {
   "display_name": "Python 3",
   "language": "python",
   "name": "python3"
  },
  "language_info": {
   "codemirror_mode": {
    "name": "ipython",
    "version": 3
   },
   "file_extension": ".py",
   "mimetype": "text/x-python",
   "name": "python",
   "nbconvert_exporter": "python",
   "pygments_lexer": "ipython3",
   "version": "3.6.9"
  }
 },
 "nbformat": 4,
 "nbformat_minor": 4
}
